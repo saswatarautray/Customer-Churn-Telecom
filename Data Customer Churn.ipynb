{
  "nbformat": 4,
  "nbformat_minor": 0,
  "metadata": {
    "colab": {
      "name": "Data Customer Churn2.ipynb",
      "provenance": [],
      "collapsed_sections": []
    },
    "kernelspec": {
      "name": "python3",
      "display_name": "Python 3"
    },
    "language_info": {
      "name": "python"
    }
  },
  "cells": [
    {
      "cell_type": "markdown",
      "metadata": {
        "id": "d4K7VGfbhAqp"
      },
      "source": [
        "# Importing Packages"
      ]
    },
    {
      "cell_type": "code",
      "metadata": {
        "id": "BAdlUxfahHCN"
      },
      "source": [
        "import pandas as pd\n",
        "import numpy as np\n",
        "import matplotlib.pyplot as plt\n",
        "import seaborn as sns\n",
        "from datetime import datetime as dtime\n",
        "from datetime import date"
      ],
      "execution_count": 112,
      "outputs": []
    },
    {
      "cell_type": "markdown",
      "metadata": {
        "id": "kInKESrqhYWF"
      },
      "source": [
        "#Import Dataset"
      ]
    },
    {
      "cell_type": "code",
      "metadata": {
        "colab": {
          "base_uri": "https://localhost:8080/"
        },
        "id": "hIAutZcJhb3X",
        "outputId": "7ac7bd17-e596-4af2-8b04-5dda19f357a3"
      },
      "source": [
        "from google.colab import drive\n",
        "drive.mount('/content/drive')"
      ],
      "execution_count": 113,
      "outputs": [
        {
          "output_type": "stream",
          "text": [
            "Drive already mounted at /content/drive; to attempt to forcibly remount, call drive.mount(\"/content/drive\", force_remount=True).\n"
          ],
          "name": "stdout"
        }
      ]
    },
    {
      "cell_type": "code",
      "metadata": {
        "id": "ZfmSn50Ph53D"
      },
      "source": [
        "df = pd.read_csv('drive/My Drive/Data Customer Churn.csv')"
      ],
      "execution_count": 114,
      "outputs": []
    },
    {
      "cell_type": "markdown",
      "metadata": {
        "id": "Fycvx2EAiGR6"
      },
      "source": [
        "# Check Dataset"
      ]
    },
    {
      "cell_type": "code",
      "metadata": {
        "colab": {
          "base_uri": "https://localhost:8080/",
          "height": 309
        },
        "id": "abtjvy-uiMJu",
        "outputId": "5c98c0fa-87bc-4cc3-9eae-67d77f927749"
      },
      "source": [
        "df.head()"
      ],
      "execution_count": 115,
      "outputs": [
        {
          "output_type": "execute_result",
          "data": {
            "text/html": [
              "<div>\n",
              "<style scoped>\n",
              "    .dataframe tbody tr th:only-of-type {\n",
              "        vertical-align: middle;\n",
              "    }\n",
              "\n",
              "    .dataframe tbody tr th {\n",
              "        vertical-align: top;\n",
              "    }\n",
              "\n",
              "    .dataframe thead th {\n",
              "        text-align: right;\n",
              "    }\n",
              "</style>\n",
              "<table border=\"1\" class=\"dataframe\">\n",
              "  <thead>\n",
              "    <tr style=\"text-align: right;\">\n",
              "      <th></th>\n",
              "      <th>customerID</th>\n",
              "      <th>gender</th>\n",
              "      <th>SeniorCitizen</th>\n",
              "      <th>Partner</th>\n",
              "      <th>Dependents</th>\n",
              "      <th>tenure</th>\n",
              "      <th>PhoneService</th>\n",
              "      <th>MultipleLines</th>\n",
              "      <th>InternetService</th>\n",
              "      <th>OnlineSecurity</th>\n",
              "      <th>OnlineBackup</th>\n",
              "      <th>DeviceProtection</th>\n",
              "      <th>TechSupport</th>\n",
              "      <th>StreamingTV</th>\n",
              "      <th>StreamingMovies</th>\n",
              "      <th>Contract</th>\n",
              "      <th>PaperlessBilling</th>\n",
              "      <th>PaymentMethod</th>\n",
              "      <th>MonthlyCharges</th>\n",
              "      <th>TotalCharges</th>\n",
              "      <th>Churn</th>\n",
              "    </tr>\n",
              "  </thead>\n",
              "  <tbody>\n",
              "    <tr>\n",
              "      <th>0</th>\n",
              "      <td>7590-VHVEG</td>\n",
              "      <td>NaN</td>\n",
              "      <td>NaN</td>\n",
              "      <td>NaN</td>\n",
              "      <td>NaN</td>\n",
              "      <td>1</td>\n",
              "      <td>No</td>\n",
              "      <td>NaN</td>\n",
              "      <td>NaN</td>\n",
              "      <td>NaN</td>\n",
              "      <td>NaN</td>\n",
              "      <td>NaN</td>\n",
              "      <td>NaN</td>\n",
              "      <td>NaN</td>\n",
              "      <td>NaN</td>\n",
              "      <td>Month-to-month</td>\n",
              "      <td>Yes</td>\n",
              "      <td>Electronic check</td>\n",
              "      <td>29.85</td>\n",
              "      <td>29.85</td>\n",
              "      <td>No</td>\n",
              "    </tr>\n",
              "    <tr>\n",
              "      <th>1</th>\n",
              "      <td>5575-GNVDE</td>\n",
              "      <td>NaN</td>\n",
              "      <td>NaN</td>\n",
              "      <td>NaN</td>\n",
              "      <td>NaN</td>\n",
              "      <td>34</td>\n",
              "      <td>Yes</td>\n",
              "      <td>NaN</td>\n",
              "      <td>NaN</td>\n",
              "      <td>NaN</td>\n",
              "      <td>NaN</td>\n",
              "      <td>NaN</td>\n",
              "      <td>NaN</td>\n",
              "      <td>NaN</td>\n",
              "      <td>NaN</td>\n",
              "      <td>One year</td>\n",
              "      <td>No</td>\n",
              "      <td>Mailed check</td>\n",
              "      <td>56.95</td>\n",
              "      <td>1889.5</td>\n",
              "      <td>No</td>\n",
              "    </tr>\n",
              "    <tr>\n",
              "      <th>2</th>\n",
              "      <td>3668-QPYBK</td>\n",
              "      <td>NaN</td>\n",
              "      <td>NaN</td>\n",
              "      <td>NaN</td>\n",
              "      <td>NaN</td>\n",
              "      <td>2</td>\n",
              "      <td>Yes</td>\n",
              "      <td>NaN</td>\n",
              "      <td>NaN</td>\n",
              "      <td>NaN</td>\n",
              "      <td>NaN</td>\n",
              "      <td>NaN</td>\n",
              "      <td>NaN</td>\n",
              "      <td>NaN</td>\n",
              "      <td>NaN</td>\n",
              "      <td>Month-to-month</td>\n",
              "      <td>Yes</td>\n",
              "      <td>Mailed check</td>\n",
              "      <td>53.85</td>\n",
              "      <td>108.15</td>\n",
              "      <td>Yes</td>\n",
              "    </tr>\n",
              "    <tr>\n",
              "      <th>3</th>\n",
              "      <td>7795-CFOCW</td>\n",
              "      <td>NaN</td>\n",
              "      <td>NaN</td>\n",
              "      <td>NaN</td>\n",
              "      <td>NaN</td>\n",
              "      <td>45</td>\n",
              "      <td>No</td>\n",
              "      <td>NaN</td>\n",
              "      <td>NaN</td>\n",
              "      <td>NaN</td>\n",
              "      <td>NaN</td>\n",
              "      <td>NaN</td>\n",
              "      <td>NaN</td>\n",
              "      <td>NaN</td>\n",
              "      <td>NaN</td>\n",
              "      <td>One year</td>\n",
              "      <td>No</td>\n",
              "      <td>Bank transfer (automatic)</td>\n",
              "      <td>42.30</td>\n",
              "      <td>1840.75</td>\n",
              "      <td>No</td>\n",
              "    </tr>\n",
              "    <tr>\n",
              "      <th>4</th>\n",
              "      <td>9237-HQITU</td>\n",
              "      <td>NaN</td>\n",
              "      <td>NaN</td>\n",
              "      <td>NaN</td>\n",
              "      <td>NaN</td>\n",
              "      <td>2</td>\n",
              "      <td>Yes</td>\n",
              "      <td>NaN</td>\n",
              "      <td>NaN</td>\n",
              "      <td>NaN</td>\n",
              "      <td>NaN</td>\n",
              "      <td>NaN</td>\n",
              "      <td>NaN</td>\n",
              "      <td>NaN</td>\n",
              "      <td>NaN</td>\n",
              "      <td>Month-to-month</td>\n",
              "      <td>Yes</td>\n",
              "      <td>Electronic check</td>\n",
              "      <td>70.70</td>\n",
              "      <td>151.65</td>\n",
              "      <td>Yes</td>\n",
              "    </tr>\n",
              "  </tbody>\n",
              "</table>\n",
              "</div>"
            ],
            "text/plain": [
              "   customerID gender  SeniorCitizen  ... MonthlyCharges TotalCharges  Churn\n",
              "0  7590-VHVEG    NaN            NaN  ...          29.85        29.85     No\n",
              "1  5575-GNVDE    NaN            NaN  ...          56.95       1889.5     No\n",
              "2  3668-QPYBK    NaN            NaN  ...          53.85       108.15    Yes\n",
              "3  7795-CFOCW    NaN            NaN  ...          42.30      1840.75     No\n",
              "4  9237-HQITU    NaN            NaN  ...          70.70       151.65    Yes\n",
              "\n",
              "[5 rows x 21 columns]"
            ]
          },
          "metadata": {
            "tags": []
          },
          "execution_count": 115
        }
      ]
    },
    {
      "cell_type": "code",
      "metadata": {
        "colab": {
          "base_uri": "https://localhost:8080/"
        },
        "id": "5ZLf7JY8iWm4",
        "outputId": "e28e5a64-9a9d-4dc3-d60e-3ff91155be3c"
      },
      "source": [
        "df.info()"
      ],
      "execution_count": 116,
      "outputs": [
        {
          "output_type": "stream",
          "text": [
            "<class 'pandas.core.frame.DataFrame'>\n",
            "RangeIndex: 7043 entries, 0 to 7042\n",
            "Data columns (total 21 columns):\n",
            " #   Column            Non-Null Count  Dtype  \n",
            "---  ------            --------------  -----  \n",
            " 0   customerID        7043 non-null   object \n",
            " 1   gender            6034 non-null   object \n",
            " 2   SeniorCitizen     6034 non-null   float64\n",
            " 3   Partner           6034 non-null   object \n",
            " 4   Dependents        6034 non-null   object \n",
            " 5   tenure            7043 non-null   int64  \n",
            " 6   PhoneService      7043 non-null   object \n",
            " 7   MultipleLines     6034 non-null   object \n",
            " 8   InternetService   6034 non-null   object \n",
            " 9   OnlineSecurity    6034 non-null   object \n",
            " 10  OnlineBackup      6034 non-null   object \n",
            " 11  DeviceProtection  6034 non-null   object \n",
            " 12  TechSupport       6034 non-null   object \n",
            " 13  StreamingTV       6034 non-null   object \n",
            " 14  StreamingMovies   6034 non-null   object \n",
            " 15  Contract          7043 non-null   object \n",
            " 16  PaperlessBilling  7043 non-null   object \n",
            " 17  PaymentMethod     7043 non-null   object \n",
            " 18  MonthlyCharges    7043 non-null   float64\n",
            " 19  TotalCharges      7043 non-null   object \n",
            " 20  Churn             7043 non-null   object \n",
            "dtypes: float64(2), int64(1), object(18)\n",
            "memory usage: 1.1+ MB\n"
          ],
          "name": "stdout"
        }
      ]
    },
    {
      "cell_type": "code",
      "metadata": {
        "colab": {
          "base_uri": "https://localhost:8080/",
          "height": 297
        },
        "id": "GfFToypoiihJ",
        "outputId": "1ffbc953-c232-477a-c7f5-10cfc5953bb2"
      },
      "source": [
        "df.describe()"
      ],
      "execution_count": 117,
      "outputs": [
        {
          "output_type": "execute_result",
          "data": {
            "text/html": [
              "<div>\n",
              "<style scoped>\n",
              "    .dataframe tbody tr th:only-of-type {\n",
              "        vertical-align: middle;\n",
              "    }\n",
              "\n",
              "    .dataframe tbody tr th {\n",
              "        vertical-align: top;\n",
              "    }\n",
              "\n",
              "    .dataframe thead th {\n",
              "        text-align: right;\n",
              "    }\n",
              "</style>\n",
              "<table border=\"1\" class=\"dataframe\">\n",
              "  <thead>\n",
              "    <tr style=\"text-align: right;\">\n",
              "      <th></th>\n",
              "      <th>SeniorCitizen</th>\n",
              "      <th>tenure</th>\n",
              "      <th>MonthlyCharges</th>\n",
              "    </tr>\n",
              "  </thead>\n",
              "  <tbody>\n",
              "    <tr>\n",
              "      <th>count</th>\n",
              "      <td>6034.000000</td>\n",
              "      <td>7043.000000</td>\n",
              "      <td>7043.000000</td>\n",
              "    </tr>\n",
              "    <tr>\n",
              "      <th>mean</th>\n",
              "      <td>0.161916</td>\n",
              "      <td>32.371149</td>\n",
              "      <td>64.761692</td>\n",
              "    </tr>\n",
              "    <tr>\n",
              "      <th>std</th>\n",
              "      <td>0.368404</td>\n",
              "      <td>24.559481</td>\n",
              "      <td>30.090047</td>\n",
              "    </tr>\n",
              "    <tr>\n",
              "      <th>min</th>\n",
              "      <td>0.000000</td>\n",
              "      <td>0.000000</td>\n",
              "      <td>18.250000</td>\n",
              "    </tr>\n",
              "    <tr>\n",
              "      <th>25%</th>\n",
              "      <td>0.000000</td>\n",
              "      <td>9.000000</td>\n",
              "      <td>35.500000</td>\n",
              "    </tr>\n",
              "    <tr>\n",
              "      <th>50%</th>\n",
              "      <td>0.000000</td>\n",
              "      <td>29.000000</td>\n",
              "      <td>70.350000</td>\n",
              "    </tr>\n",
              "    <tr>\n",
              "      <th>75%</th>\n",
              "      <td>0.000000</td>\n",
              "      <td>55.000000</td>\n",
              "      <td>89.850000</td>\n",
              "    </tr>\n",
              "    <tr>\n",
              "      <th>max</th>\n",
              "      <td>1.000000</td>\n",
              "      <td>72.000000</td>\n",
              "      <td>118.750000</td>\n",
              "    </tr>\n",
              "  </tbody>\n",
              "</table>\n",
              "</div>"
            ],
            "text/plain": [
              "       SeniorCitizen       tenure  MonthlyCharges\n",
              "count    6034.000000  7043.000000     7043.000000\n",
              "mean        0.161916    32.371149       64.761692\n",
              "std         0.368404    24.559481       30.090047\n",
              "min         0.000000     0.000000       18.250000\n",
              "25%         0.000000     9.000000       35.500000\n",
              "50%         0.000000    29.000000       70.350000\n",
              "75%         0.000000    55.000000       89.850000\n",
              "max         1.000000    72.000000      118.750000"
            ]
          },
          "metadata": {
            "tags": []
          },
          "execution_count": 117
        }
      ]
    },
    {
      "cell_type": "markdown",
      "metadata": {
        "id": "zfLiHI5qioZc"
      },
      "source": [
        "# Data Cleansing"
      ]
    },
    {
      "cell_type": "markdown",
      "metadata": {
        "id": "EgAsnuky1CBP"
      },
      "source": [
        "*   Missing Values Checking and Handling\n",
        "\n",
        "\n",
        "\n",
        "\n",
        "\n"
      ]
    },
    {
      "cell_type": "code",
      "metadata": {
        "colab": {
          "base_uri": "https://localhost:8080/"
        },
        "id": "q_p94pLlirDH",
        "outputId": "bd98d2cc-bb60-4a78-b3ce-135b349b7921"
      },
      "source": [
        "#gender\n",
        "df.gender.value_counts()"
      ],
      "execution_count": 118,
      "outputs": [
        {
          "output_type": "execute_result",
          "data": {
            "text/plain": [
              "Male      3041\n",
              "Female    2993\n",
              "Name: gender, dtype: int64"
            ]
          },
          "metadata": {
            "tags": []
          },
          "execution_count": 118
        }
      ]
    },
    {
      "cell_type": "code",
      "metadata": {
        "id": "wzFZfz1_jM4A"
      },
      "source": [
        "#Imputation gender\n",
        "df.gender = df.gender.fillna('unknown')"
      ],
      "execution_count": 119,
      "outputs": []
    },
    {
      "cell_type": "code",
      "metadata": {
        "colab": {
          "base_uri": "https://localhost:8080/"
        },
        "id": "oslFWVoFjroi",
        "outputId": "4bb21c78-32a6-4b45-9d13-bb70e3a742fd"
      },
      "source": [
        "#SeniorCitizen\n",
        "df.SeniorCitizen.value_counts()"
      ],
      "execution_count": 120,
      "outputs": [
        {
          "output_type": "execute_result",
          "data": {
            "text/plain": [
              "0.0    5057\n",
              "1.0     977\n",
              "Name: SeniorCitizen, dtype: int64"
            ]
          },
          "metadata": {
            "tags": []
          },
          "execution_count": 120
        }
      ]
    },
    {
      "cell_type": "code",
      "metadata": {
        "id": "jErnWnZKkFdk"
      },
      "source": [
        "#Imputation SeniorCitizen\n",
        "df.SeniorCitizen = df.SeniorCitizen.fillna('unknown')"
      ],
      "execution_count": 121,
      "outputs": []
    },
    {
      "cell_type": "code",
      "metadata": {
        "colab": {
          "base_uri": "https://localhost:8080/"
        },
        "id": "lufD2k6gkroU",
        "outputId": "fb0d05e9-609c-42ad-9a04-dd887d97e368"
      },
      "source": [
        "#Partner\n",
        "df.Partner.value_counts()"
      ],
      "execution_count": 122,
      "outputs": [
        {
          "output_type": "execute_result",
          "data": {
            "text/plain": [
              "No     3111\n",
              "Yes    2923\n",
              "Name: Partner, dtype: int64"
            ]
          },
          "metadata": {
            "tags": []
          },
          "execution_count": 122
        }
      ]
    },
    {
      "cell_type": "code",
      "metadata": {
        "id": "14V0ja7kkzvr"
      },
      "source": [
        "#Imputation Partner\n",
        "df.Partner = df.Partner.fillna('unknown')"
      ],
      "execution_count": 123,
      "outputs": []
    },
    {
      "cell_type": "code",
      "metadata": {
        "colab": {
          "base_uri": "https://localhost:8080/"
        },
        "id": "D7Mbnhi0lV-8",
        "outputId": "5410fd00-b9e4-4529-febd-11f5eb2f4960"
      },
      "source": [
        "#Dependents\n",
        "df.Dependents.value_counts()"
      ],
      "execution_count": 124,
      "outputs": [
        {
          "output_type": "execute_result",
          "data": {
            "text/plain": [
              "No     4238\n",
              "Yes    1796\n",
              "Name: Dependents, dtype: int64"
            ]
          },
          "metadata": {
            "tags": []
          },
          "execution_count": 124
        }
      ]
    },
    {
      "cell_type": "code",
      "metadata": {
        "id": "XVx8giCdloFn"
      },
      "source": [
        "#Imputation Dependents\n",
        "df.Dependents = df.Dependents.fillna('unknown')"
      ],
      "execution_count": 125,
      "outputs": []
    },
    {
      "cell_type": "code",
      "metadata": {
        "colab": {
          "base_uri": "https://localhost:8080/"
        },
        "id": "GEapmU23l86t",
        "outputId": "0aa66b07-dfd3-44cd-e594-62b98b36e168"
      },
      "source": [
        "#MultipleLines\n",
        "df.MultipleLines.value_counts()"
      ],
      "execution_count": 126,
      "outputs": [
        {
          "output_type": "execute_result",
          "data": {
            "text/plain": [
              "No                  2908\n",
              "Yes                 2537\n",
              "No phone service     589\n",
              "Name: MultipleLines, dtype: int64"
            ]
          },
          "metadata": {
            "tags": []
          },
          "execution_count": 126
        }
      ]
    },
    {
      "cell_type": "code",
      "metadata": {
        "id": "VmS2-4z7mDRf"
      },
      "source": [
        "#Imputation MultipleLines\n",
        "df.MultipleLines = df.MultipleLines.fillna('unknown')"
      ],
      "execution_count": 127,
      "outputs": []
    },
    {
      "cell_type": "code",
      "metadata": {
        "colab": {
          "base_uri": "https://localhost:8080/"
        },
        "id": "C-rzCrj2mkJr",
        "outputId": "e5adfd4e-2904-405f-9d9e-703e89ecd9f5"
      },
      "source": [
        "#InternetService\n",
        "df.InternetService.value_counts()"
      ],
      "execution_count": 128,
      "outputs": [
        {
          "output_type": "execute_result",
          "data": {
            "text/plain": [
              "Fiber optic    2621\n",
              "DSL            2092\n",
              "No             1321\n",
              "Name: InternetService, dtype: int64"
            ]
          },
          "metadata": {
            "tags": []
          },
          "execution_count": 128
        }
      ]
    },
    {
      "cell_type": "code",
      "metadata": {
        "id": "fHbM7YEunLW9"
      },
      "source": [
        "#Imputation InternetService\n",
        "df.InternetService = df.InternetService.fillna('unknown')"
      ],
      "execution_count": 129,
      "outputs": []
    },
    {
      "cell_type": "code",
      "metadata": {
        "colab": {
          "base_uri": "https://localhost:8080/"
        },
        "id": "gVKgsSd1qUCW",
        "outputId": "3b40a403-cb42-4b6a-a18f-67f6c15ee22b"
      },
      "source": [
        "#OnlineSecurity\n",
        "df.OnlineSecurity.value_counts()"
      ],
      "execution_count": 130,
      "outputs": [
        {
          "output_type": "execute_result",
          "data": {
            "text/plain": [
              "No                     2993\n",
              "Yes                    1720\n",
              "No internet service    1321\n",
              "Name: OnlineSecurity, dtype: int64"
            ]
          },
          "metadata": {
            "tags": []
          },
          "execution_count": 130
        }
      ]
    },
    {
      "cell_type": "code",
      "metadata": {
        "id": "-ODUF95QqkAn"
      },
      "source": [
        "#Imputation OnlineSecurity\n",
        "df.OnlineSecurity = df.OnlineSecurity.fillna('unknown')"
      ],
      "execution_count": 131,
      "outputs": []
    },
    {
      "cell_type": "code",
      "metadata": {
        "colab": {
          "base_uri": "https://localhost:8080/"
        },
        "id": "1I0Ub0dWqzFE",
        "outputId": "b5e241d0-babb-43e7-afbf-214a916a4d4d"
      },
      "source": [
        "#OnlineBackup\n",
        "df.OnlineBackup.value_counts()"
      ],
      "execution_count": 132,
      "outputs": [
        {
          "output_type": "execute_result",
          "data": {
            "text/plain": [
              "No                     2643\n",
              "Yes                    2070\n",
              "No internet service    1321\n",
              "Name: OnlineBackup, dtype: int64"
            ]
          },
          "metadata": {
            "tags": []
          },
          "execution_count": 132
        }
      ]
    },
    {
      "cell_type": "code",
      "metadata": {
        "id": "z37i82uOrMv0"
      },
      "source": [
        "#Imputation OnlineBackup\n",
        "df.OnlineBackup = df.OnlineBackup.fillna('unknown')"
      ],
      "execution_count": 133,
      "outputs": []
    },
    {
      "cell_type": "code",
      "metadata": {
        "colab": {
          "base_uri": "https://localhost:8080/"
        },
        "id": "U1G5acBvrYXk",
        "outputId": "57e073f3-d285-46f9-f03f-dd05bcf84234"
      },
      "source": [
        "#DeviceProtection\n",
        "df.DeviceProtection.value_counts()"
      ],
      "execution_count": 134,
      "outputs": [
        {
          "output_type": "execute_result",
          "data": {
            "text/plain": [
              "No                     2643\n",
              "Yes                    2070\n",
              "No internet service    1321\n",
              "Name: DeviceProtection, dtype: int64"
            ]
          },
          "metadata": {
            "tags": []
          },
          "execution_count": 134
        }
      ]
    },
    {
      "cell_type": "code",
      "metadata": {
        "id": "N-jvBvhJrqYF"
      },
      "source": [
        "#Imputation DeviceProtection\n",
        "df.DeviceProtection = df.DeviceProtection.fillna('unknown')"
      ],
      "execution_count": 135,
      "outputs": []
    },
    {
      "cell_type": "code",
      "metadata": {
        "colab": {
          "base_uri": "https://localhost:8080/"
        },
        "id": "5CeAPJG6sDcz",
        "outputId": "e2cbbc4f-aca1-4066-9c2f-31f590e34c9b"
      },
      "source": [
        "#TechSupport\n",
        "df.TechSupport.value_counts()"
      ],
      "execution_count": 136,
      "outputs": [
        {
          "output_type": "execute_result",
          "data": {
            "text/plain": [
              "No                     2973\n",
              "Yes                    1740\n",
              "No internet service    1321\n",
              "Name: TechSupport, dtype: int64"
            ]
          },
          "metadata": {
            "tags": []
          },
          "execution_count": 136
        }
      ]
    },
    {
      "cell_type": "code",
      "metadata": {
        "id": "8fJCe2t9sIRk"
      },
      "source": [
        "#Imputation TechSupport\n",
        "df.TechSupport = df.TechSupport.fillna('unknown')"
      ],
      "execution_count": 137,
      "outputs": []
    },
    {
      "cell_type": "code",
      "metadata": {
        "colab": {
          "base_uri": "https://localhost:8080/"
        },
        "id": "yK4Ef09YsS3n",
        "outputId": "d3168a0d-5a46-4125-e90d-0e4311644630"
      },
      "source": [
        "#StreamingTV\n",
        "df.StreamingTV.value_counts()"
      ],
      "execution_count": 138,
      "outputs": [
        {
          "output_type": "execute_result",
          "data": {
            "text/plain": [
              "No                     2403\n",
              "Yes                    2310\n",
              "No internet service    1321\n",
              "Name: StreamingTV, dtype: int64"
            ]
          },
          "metadata": {
            "tags": []
          },
          "execution_count": 138
        }
      ]
    },
    {
      "cell_type": "code",
      "metadata": {
        "id": "m3MsLwr7w6JN"
      },
      "source": [
        "#Imputation StreamingTV\n",
        "df.StreamingTV = df.StreamingTV.fillna('unknown')"
      ],
      "execution_count": 139,
      "outputs": []
    },
    {
      "cell_type": "code",
      "metadata": {
        "colab": {
          "base_uri": "https://localhost:8080/"
        },
        "id": "BdxKXW_CxnUk",
        "outputId": "027df684-fad5-4bb1-d186-be1bbef492cd"
      },
      "source": [
        "#StreamingMovies\n",
        "df.StreamingMovies.value_counts()"
      ],
      "execution_count": 140,
      "outputs": [
        {
          "output_type": "execute_result",
          "data": {
            "text/plain": [
              "No                     2394\n",
              "Yes                    2319\n",
              "No internet service    1321\n",
              "Name: StreamingMovies, dtype: int64"
            ]
          },
          "metadata": {
            "tags": []
          },
          "execution_count": 140
        }
      ]
    },
    {
      "cell_type": "code",
      "metadata": {
        "id": "2Qa_xMuAx3Hd"
      },
      "source": [
        "#Imputation StreamingMovies\n",
        "df.StreamingMovies = df.StreamingMovies.fillna('unknown')"
      ],
      "execution_count": 141,
      "outputs": []
    },
    {
      "cell_type": "markdown",
      "metadata": {
        "id": "ZmGW2SU10gAP"
      },
      "source": [
        "# Exploratory Data Analysis"
      ]
    },
    {
      "cell_type": "markdown",
      "metadata": {
        "id": "v7vYzJwn3Ypm"
      },
      "source": [
        "*   Distribution Analysis\n",
        "*   Convert object data type to numeric data type"
      ]
    },
    {
      "cell_type": "code",
      "metadata": {
        "id": "XvZMzG8vVrzb"
      },
      "source": [
        "#customerID\n"
      ],
      "execution_count": 142,
      "outputs": []
    },
    {
      "cell_type": "code",
      "metadata": {
        "colab": {
          "base_uri": "https://localhost:8080/",
          "height": 301
        },
        "id": "6MY-Ng0V47o2",
        "outputId": "78229fe4-04b4-4a23-cd57-3919d0a25c47"
      },
      "source": [
        "#gender\n",
        "df.gender.value_counts().plot(kind='bar');"
      ],
      "execution_count": 143,
      "outputs": [
        {
          "output_type": "display_data",
          "data": {
            "image/png": "[encoded data removed]",
            "text/plain": [
              "<Figure size 432x288 with 1 Axes>"
            ]
          },
          "metadata": {
            "tags": [],
            "needs_background": "light"
          }
        }
      ]
    },
    {
      "cell_type": "code",
      "metadata": {
        "id": "d3E0hifA8EaC"
      },
      "source": [
        "df.gender = df.gender.map({'Female':0,'Male':1, 'unknown':2})"
      ],
      "execution_count": 144,
      "outputs": []
    },
    {
      "cell_type": "code",
      "metadata": {
        "colab": {
          "base_uri": "https://localhost:8080/",
          "height": 301
        },
        "id": "2UDHgWy66FqB",
        "outputId": "6d5d6e0d-64ca-48ed-f120-d916af34e0f6"
      },
      "source": [
        "#SeniorCitizen\n",
        "df.SeniorCitizen.value_counts().plot(kind='bar');"
      ],
      "execution_count": 145,
      "outputs": [
        {
          "output_type": "display_data",
          "data": {
            "image/png": "[encoded data removed]",
            "text/plain": [
              "<Figure size 432x288 with 1 Axes>"
            ]
          },
          "metadata": {
            "tags": [],
            "needs_background": "light"
          }
        }
      ]
    },
    {
      "cell_type": "code",
      "metadata": {
        "colab": {
          "base_uri": "https://localhost:8080/"
        },
        "id": "pUHvHTxukRdp",
        "outputId": "099c3e86-01a9-4782-deeb-d9c89109ed16"
      },
      "source": [
        "df.SeniorCitizen[df.SeniorCitizen == 'unknown'] = 2.0"
      ],
      "execution_count": 146,
      "outputs": [
        {
          "output_type": "stream",
          "text": [
            "/usr/local/lib/python3.7/dist-packages/ipykernel_launcher.py:1: SettingWithCopyWarning: \n",
            "A value is trying to be set on a copy of a slice from a DataFrame\n",
            "\n",
            "See the caveats in the documentation: https://pandas.pydata.org/pandas-docs/stable/user_guide/indexing.html#returning-a-view-versus-a-copy\n",
            "  \"\"\"Entry point for launching an IPython kernel.\n"
          ],
          "name": "stderr"
        }
      ]
    },
    {
      "cell_type": "code",
      "metadata": {
        "id": "B1Q1E4-nvERg"
      },
      "source": [
        "df.SeniorCitizen = pd.to_numeric(df.SeniorCitizen)"
      ],
      "execution_count": 147,
      "outputs": []
    },
    {
      "cell_type": "code",
      "metadata": {
        "colab": {
          "base_uri": "https://localhost:8080/"
        },
        "id": "9iUPkwgQvbfe",
        "outputId": "e278ae9c-9966-426d-ba56-a26901b7fd55"
      },
      "source": [
        "df.SeniorCitizen.dtype"
      ],
      "execution_count": 148,
      "outputs": [
        {
          "output_type": "execute_result",
          "data": {
            "text/plain": [
              "dtype('float64')"
            ]
          },
          "metadata": {
            "tags": []
          },
          "execution_count": 148
        }
      ]
    },
    {
      "cell_type": "code",
      "metadata": {
        "colab": {
          "base_uri": "https://localhost:8080/"
        },
        "id": "1NUdypXuwCJu",
        "outputId": "c4669ee6-d3d0-43d7-d4e0-46a88b40d6de"
      },
      "source": [
        "df.SeniorCitizen.value_counts()"
      ],
      "execution_count": 149,
      "outputs": [
        {
          "output_type": "execute_result",
          "data": {
            "text/plain": [
              "0.0    5057\n",
              "2.0    1009\n",
              "1.0     977\n",
              "Name: SeniorCitizen, dtype: int64"
            ]
          },
          "metadata": {
            "tags": []
          },
          "execution_count": 149
        }
      ]
    },
    {
      "cell_type": "code",
      "metadata": {
        "colab": {
          "base_uri": "https://localhost:8080/",
          "height": 301
        },
        "id": "JR5nNjQY6dyi",
        "outputId": "10d1013a-9f51-4637-e7a2-c196af1e4270"
      },
      "source": [
        "#Partner\n",
        "df.Partner.value_counts().plot(kind='bar');"
      ],
      "execution_count": 150,
      "outputs": [
        {
          "output_type": "display_data",
          "data": {
            "image/png": "[encoded data removed]",
            "text/plain": [
              "<Figure size 432x288 with 1 Axes>"
            ]
          },
          "metadata": {
            "tags": [],
            "needs_background": "light"
          }
        }
      ]
    },
    {
      "cell_type": "code",
      "metadata": {
        "id": "hdirBMnW63d4"
      },
      "source": [
        "df.Partner = df.Partner.map({'No':0,'Yes':1, 'unknown':2})"
      ],
      "execution_count": 151,
      "outputs": []
    },
    {
      "cell_type": "code",
      "metadata": {
        "id": "CNK6xERN7A7P",
        "colab": {
          "base_uri": "https://localhost:8080/",
          "height": 301
        },
        "outputId": "a99c404d-258f-461d-e5b4-7e0fb544f210"
      },
      "source": [
        "#Dependents\n",
        "df.Dependents.value_counts().plot(kind='bar');"
      ],
      "execution_count": 152,
      "outputs": [
        {
          "output_type": "display_data",
          "data": {
            "image/png": "[encoded data removed]",
            "text/plain": [
              "<Figure size 432x288 with 1 Axes>"
            ]
          },
          "metadata": {
            "tags": [],
            "needs_background": "light"
          }
        }
      ]
    },
    {
      "cell_type": "code",
      "metadata": {
        "id": "wuBttXO1p_hq"
      },
      "source": [
        "df.Dependents = df.Dependents.map({'No':0,'Yes':1, 'unknown':2})"
      ],
      "execution_count": 153,
      "outputs": []
    },
    {
      "cell_type": "code",
      "metadata": {
        "colab": {
          "base_uri": "https://localhost:8080/",
          "height": 333
        },
        "id": "4dwQ-VTfqgto",
        "outputId": "5735cbc7-b6a6-4a7e-ae20-20d4940ec298"
      },
      "source": [
        "#tenure\n",
        "sns.boxplot(df['tenure']);"
      ],
      "execution_count": 154,
      "outputs": [
        {
          "output_type": "stream",
          "text": [
            "/usr/local/lib/python3.7/dist-packages/seaborn/_decorators.py:43: FutureWarning: Pass the following variable as a keyword arg: x. From version 0.12, the only valid positional argument will be `data`, and passing other arguments without an explicit keyword will result in an error or misinterpretation.\n",
            "  FutureWarning\n"
          ],
          "name": "stderr"
        },
        {
          "output_type": "display_data",
          "data": {
            "image/png": "[encoded data removed]",
            "text/plain": [
              "<Figure size 432x288 with 1 Axes>"
            ]
          },
          "metadata": {
            "tags": [],
            "needs_background": "light"
          }
        }
      ]
    },
    {
      "cell_type": "code",
      "metadata": {
        "colab": {
          "base_uri": "https://localhost:8080/",
          "height": 271
        },
        "id": "SL3miNF4rNSu",
        "outputId": "5cb4f6a5-3874-452c-8e92-0fc7edc3c560"
      },
      "source": [
        "#PhoneService\n",
        "df.PhoneService.value_counts().plot(kind='bar');"
      ],
      "execution_count": 155,
      "outputs": [
        {
          "output_type": "display_data",
          "data": {
            "image/png": "[encoded data removed]",
            "text/plain": [
              "<Figure size 432x288 with 1 Axes>"
            ]
          },
          "metadata": {
            "tags": [],
            "needs_background": "light"
          }
        }
      ]
    },
    {
      "cell_type": "code",
      "metadata": {
        "id": "rRbcF5wDrd11"
      },
      "source": [
        "df.PhoneService = df.PhoneService.map({'No':0,'Yes':1})"
      ],
      "execution_count": 156,
      "outputs": []
    },
    {
      "cell_type": "code",
      "metadata": {
        "colab": {
          "base_uri": "https://localhost:8080/",
          "height": 342
        },
        "id": "pXSrSH2Prwzn",
        "outputId": "027c83a2-aeb5-459c-da11-f07cb06c411e"
      },
      "source": [
        "#MultipleLines\n",
        "df.MultipleLines.value_counts().plot(kind='bar');"
      ],
      "execution_count": 157,
      "outputs": [
        {
          "output_type": "display_data",
          "data": {
            "image/png": "[encoded data removed]",
            "text/plain": [
              "<Figure size 432x288 with 1 Axes>"
            ]
          },
          "metadata": {
            "tags": [],
            "needs_background": "light"
          }
        }
      ]
    },
    {
      "cell_type": "code",
      "metadata": {
        "id": "dQekOEuHsEAY"
      },
      "source": [
        "df.MultipleLines = df.MultipleLines.map({'No':0, 'Yes':1, 'No phone service':2, 'unknown':3})"
      ],
      "execution_count": 158,
      "outputs": []
    },
    {
      "cell_type": "code",
      "metadata": {
        "colab": {
          "base_uri": "https://localhost:8080/",
          "height": 307
        },
        "id": "iqPVEGfwsvAU",
        "outputId": "1be3931b-c2c3-46ec-a1b0-d493827adf0f"
      },
      "source": [
        "#InternetService\n",
        "df.InternetService.value_counts().plot(kind='bar');"
      ],
      "execution_count": 159,
      "outputs": [
        {
          "output_type": "display_data",
          "data": {
            "image/png": "[encoded data removed]",
            "text/plain": [
              "<Figure size 432x288 with 1 Axes>"
            ]
          },
          "metadata": {
            "tags": [],
            "needs_background": "light"
          }
        }
      ]
    },
    {
      "cell_type": "code",
      "metadata": {
        "id": "Kcio14QatJ3v"
      },
      "source": [
        "df.InternetService = df.InternetService.map({'DSL':0, 'Fiber optic':1, 'No':2, 'unknown':3})"
      ],
      "execution_count": 160,
      "outputs": []
    },
    {
      "cell_type": "code",
      "metadata": {
        "colab": {
          "base_uri": "https://localhost:8080/",
          "height": 351
        },
        "id": "vdgQ4pU9thnH",
        "outputId": "6e8ee23a-ddff-4b17-cbda-895afccd63cb"
      },
      "source": [
        "#OnlineSecurity\n",
        "df.OnlineSecurity.value_counts().plot(kind='bar');"
      ],
      "execution_count": 161,
      "outputs": [
        {
          "output_type": "display_data",
          "data": {
            "image/png": "[encoded data removed]",
            "text/plain": [
              "<Figure size 432x288 with 1 Axes>"
            ]
          },
          "metadata": {
            "tags": [],
            "needs_background": "light"
          }
        }
      ]
    },
    {
      "cell_type": "code",
      "metadata": {
        "id": "5skMqeexrBl5"
      },
      "source": [
        "df.OnlineSecurity = df.OnlineSecurity.map({'No':0, 'Yes':1, 'No internet service':2, 'unknown':3})"
      ],
      "execution_count": 162,
      "outputs": []
    },
    {
      "cell_type": "code",
      "metadata": {
        "colab": {
          "base_uri": "https://localhost:8080/",
          "height": 368
        },
        "id": "T1oAhEpirYzv",
        "outputId": "5b980261-7bd0-4cf2-848c-fb26c5878086"
      },
      "source": [
        "#OnlineBackup\n",
        "df.OnlineBackup.value_counts().plot(kind='bar')"
      ],
      "execution_count": 163,
      "outputs": [
        {
          "output_type": "execute_result",
          "data": {
            "text/plain": [
              "<matplotlib.axes._subplots.AxesSubplot at 0x7f5251959b10>"
            ]
          },
          "metadata": {
            "tags": []
          },
          "execution_count": 163
        },
        {
          "output_type": "display_data",
          "data": {
            "image/png": "[encoded data removed]",
            "text/plain": [
              "<Figure size 432x288 with 1 Axes>"
            ]
          },
          "metadata": {
            "tags": [],
            "needs_background": "light"
          }
        }
      ]
    },
    {
      "cell_type": "code",
      "metadata": {
        "id": "74N5EngGrymq"
      },
      "source": [
        "df.OnlineBackup = df.OnlineBackup.map({'No':0, 'Yes':1, 'No internet service':2, 'unknown':3})"
      ],
      "execution_count": 164,
      "outputs": []
    },
    {
      "cell_type": "code",
      "metadata": {
        "colab": {
          "base_uri": "https://localhost:8080/",
          "height": 368
        },
        "id": "0dhaJAUPr-9X",
        "outputId": "b742b978-020b-4d0e-f78a-d0da8b0b7c6d"
      },
      "source": [
        "#DeviceProtection\n",
        "df.DeviceProtection.value_counts().plot(kind='bar')"
      ],
      "execution_count": 165,
      "outputs": [
        {
          "output_type": "execute_result",
          "data": {
            "text/plain": [
              "<matplotlib.axes._subplots.AxesSubplot at 0x7f52518d25d0>"
            ]
          },
          "metadata": {
            "tags": []
          },
          "execution_count": 165
        },
        {
          "output_type": "display_data",
          "data": {
            "image/png": "[encoded data removed]",
            "text/plain": [
              "<Figure size 432x288 with 1 Axes>"
            ]
          },
          "metadata": {
            "tags": [],
            "needs_background": "light"
          }
        }
      ]
    },
    {
      "cell_type": "code",
      "metadata": {
        "id": "MXHtrUS9sT-d"
      },
      "source": [
        "df.DeviceProtection = df.DeviceProtection.map({'No':0, 'Yes':1, 'No internet service':2, 'unknown':3})"
      ],
      "execution_count": 166,
      "outputs": []
    },
    {
      "cell_type": "code",
      "metadata": {
        "colab": {
          "base_uri": "https://localhost:8080/",
          "height": 368
        },
        "id": "IGELh10UsleA",
        "outputId": "e63ba8d7-1484-44e1-a377-ee052951a577"
      },
      "source": [
        "#TechSupport\n",
        "df.TechSupport.value_counts().plot(kind='bar')"
      ],
      "execution_count": 167,
      "outputs": [
        {
          "output_type": "execute_result",
          "data": {
            "text/plain": [
              "<matplotlib.axes._subplots.AxesSubplot at 0x7f5251836090>"
            ]
          },
          "metadata": {
            "tags": []
          },
          "execution_count": 167
        },
        {
          "output_type": "display_data",
          "data": {
            "image/png": "[encoded data removed]",
            "text/plain": [
              "<Figure size 432x288 with 1 Axes>"
            ]
          },
          "metadata": {
            "tags": [],
            "needs_background": "light"
          }
        }
      ]
    },
    {
      "cell_type": "code",
      "metadata": {
        "id": "c3h1fZa3stiX"
      },
      "source": [
        "df.TechSupport = df.TechSupport.map({'No':0, 'Yes':1, 'No internet service':2, 'unknown':3})"
      ],
      "execution_count": 168,
      "outputs": []
    },
    {
      "cell_type": "code",
      "metadata": {
        "colab": {
          "base_uri": "https://localhost:8080/",
          "height": 370
        },
        "id": "pnda3PCDs6kk",
        "outputId": "6653c6dd-b5be-487b-e0c6-15ec18e3d942"
      },
      "source": [
        "#StreamingTV\n",
        "df.StreamingTV.value_counts().plot(kind='bar')"
      ],
      "execution_count": 169,
      "outputs": [
        {
          "output_type": "execute_result",
          "data": {
            "text/plain": [
              "<matplotlib.axes._subplots.AxesSubplot at 0x7f52517ac9d0>"
            ]
          },
          "metadata": {
            "tags": []
          },
          "execution_count": 169
        },
        {
          "output_type": "display_data",
          "data": {
            "image/png": "[encoded data removed]",
            "text/plain": [
              "<Figure size 432x288 with 1 Axes>"
            ]
          },
          "metadata": {
            "tags": [],
            "needs_background": "light"
          }
        }
      ]
    },
    {
      "cell_type": "code",
      "metadata": {
        "id": "jpdeu_1mtO1F"
      },
      "source": [
        "df.StreamingTV = df.StreamingTV.map({'No':0, 'Yes':1, 'No internet service':2, 'unknown':3})"
      ],
      "execution_count": 170,
      "outputs": []
    },
    {
      "cell_type": "code",
      "metadata": {
        "colab": {
          "base_uri": "https://localhost:8080/",
          "height": 370
        },
        "id": "VfbeDOudteyu",
        "outputId": "d97bdc09-a552-49c3-f22d-c463f70dd861"
      },
      "source": [
        "#StreamingMovies\n",
        "df.StreamingMovies.value_counts().plot(kind='bar')"
      ],
      "execution_count": 171,
      "outputs": [
        {
          "output_type": "execute_result",
          "data": {
            "text/plain": [
              "<matplotlib.axes._subplots.AxesSubplot at 0x7f525179cb10>"
            ]
          },
          "metadata": {
            "tags": []
          },
          "execution_count": 171
        },
        {
          "output_type": "display_data",
          "data": {
            "image/png": "[encoded data removed]",
            "text/plain": [
              "<Figure size 432x288 with 1 Axes>"
            ]
          },
          "metadata": {
            "tags": [],
            "needs_background": "light"
          }
        }
      ]
    },
    {
      "cell_type": "code",
      "metadata": {
        "id": "BwSpLwYftmxp"
      },
      "source": [
        "df.StreamingMovies = df.StreamingMovies.map({'No':0, 'Yes':1, 'No internet service':2, 'unknown':3})"
      ],
      "execution_count": 172,
      "outputs": []
    },
    {
      "cell_type": "code",
      "metadata": {
        "colab": {
          "base_uri": "https://localhost:8080/",
          "height": 353
        },
        "id": "NwBkkBX-tzCv",
        "outputId": "1efe0b6a-4368-4213-96d1-e36a5050310b"
      },
      "source": [
        "#Contract\n",
        "df.Contract.value_counts().plot(kind='bar')"
      ],
      "execution_count": 173,
      "outputs": [
        {
          "output_type": "execute_result",
          "data": {
            "text/plain": [
              "<matplotlib.axes._subplots.AxesSubplot at 0x7f52516f9510>"
            ]
          },
          "metadata": {
            "tags": []
          },
          "execution_count": 173
        },
        {
          "output_type": "display_data",
          "data": {
            "image/png": "[encoded data removed]",
            "text/plain": [
              "<Figure size 432x288 with 1 Axes>"
            ]
          },
          "metadata": {
            "tags": [],
            "needs_background": "light"
          }
        }
      ]
    },
    {
      "cell_type": "code",
      "metadata": {
        "id": "kc-QjPq9uQg8"
      },
      "source": [
        "df.Contract = df.Contract.map({'Month-to-month':0, 'One year':1, 'Two year':2})"
      ],
      "execution_count": 174,
      "outputs": []
    },
    {
      "cell_type": "code",
      "metadata": {
        "colab": {
          "base_uri": "https://localhost:8080/",
          "height": 288
        },
        "id": "WyzinKpkvVNo",
        "outputId": "d9c096b7-735a-4f53-aabc-208b722dcbf6"
      },
      "source": [
        "#PaperlessBilling\n",
        "df.PaperlessBilling.value_counts().plot(kind='bar')"
      ],
      "execution_count": 175,
      "outputs": [
        {
          "output_type": "execute_result",
          "data": {
            "text/plain": [
              "<matplotlib.axes._subplots.AxesSubplot at 0x7f5251683910>"
            ]
          },
          "metadata": {
            "tags": []
          },
          "execution_count": 175
        },
        {
          "output_type": "display_data",
          "data": {
            "image/png": "[encoded data removed]",
            "text/plain": [
              "<Figure size 432x288 with 1 Axes>"
            ]
          },
          "metadata": {
            "tags": [],
            "needs_background": "light"
          }
        }
      ]
    },
    {
      "cell_type": "code",
      "metadata": {
        "id": "dfP4izoovihJ"
      },
      "source": [
        "df.PaperlessBilling = df.PaperlessBilling.map({'No':0, 'Yes':1})"
      ],
      "execution_count": 176,
      "outputs": []
    },
    {
      "cell_type": "code",
      "metadata": {
        "colab": {
          "base_uri": "https://localhost:8080/"
        },
        "id": "vy7cqNRdv0n5",
        "outputId": "0db1e50a-c3af-4b40-b330-7e85b78f4cc8"
      },
      "source": [
        "#PaymentMethod\n",
        "df.PaymentMethod.value_counts()"
      ],
      "execution_count": 177,
      "outputs": [
        {
          "output_type": "execute_result",
          "data": {
            "text/plain": [
              "Electronic check             2365\n",
              "Mailed check                 1612\n",
              "Bank transfer (automatic)    1544\n",
              "Credit card (automatic)      1522\n",
              "Name: PaymentMethod, dtype: int64"
            ]
          },
          "metadata": {
            "tags": []
          },
          "execution_count": 177
        }
      ]
    },
    {
      "cell_type": "code",
      "metadata": {
        "id": "qbCHmpCMwD0O"
      },
      "source": [
        "df.PaymentMethod = df.PaymentMethod.map({'Electronic check':0, 'Mailed check':1, 'Bank transfer (automatic)':2, 'Credit card (automatic)':3})"
      ],
      "execution_count": 178,
      "outputs": []
    },
    {
      "cell_type": "code",
      "metadata": {
        "colab": {
          "base_uri": "https://localhost:8080/",
          "height": 333
        },
        "id": "bEaVY7a-wqw6",
        "outputId": "7fec2fb0-4831-4343-b1c8-e0dfba6ab48a"
      },
      "source": [
        "#MonthlyCharges\n",
        "sns.boxplot(df['MonthlyCharges']);\n"
      ],
      "execution_count": 179,
      "outputs": [
        {
          "output_type": "stream",
          "text": [
            "/usr/local/lib/python3.7/dist-packages/seaborn/_decorators.py:43: FutureWarning: Pass the following variable as a keyword arg: x. From version 0.12, the only valid positional argument will be `data`, and passing other arguments without an explicit keyword will result in an error or misinterpretation.\n",
            "  FutureWarning\n"
          ],
          "name": "stderr"
        },
        {
          "output_type": "display_data",
          "data": {
            "image/png": "[encoded data removed]",
            "text/plain": [
              "<Figure size 432x288 with 1 Axes>"
            ]
          },
          "metadata": {
            "tags": [],
            "needs_background": "light"
          }
        }
      ]
    },
    {
      "cell_type": "code",
      "metadata": {
        "colab": {
          "base_uri": "https://localhost:8080/"
        },
        "id": "7mCcWcp4w2DD",
        "outputId": "5faa502d-1dba-49dd-c03f-6023004bc200"
      },
      "source": [
        "#TotalCharges\n",
        "df.TotalCharges.dtype"
      ],
      "execution_count": 180,
      "outputs": [
        {
          "output_type": "execute_result",
          "data": {
            "text/plain": [
              "dtype('O')"
            ]
          },
          "metadata": {
            "tags": []
          },
          "execution_count": 180
        }
      ]
    },
    {
      "cell_type": "code",
      "metadata": {
        "id": "SnIjYYRKN7dO"
      },
      "source": [
        "df['TotalCharges'] = pd.to_numeric(df['TotalCharges'], errors='coerce')"
      ],
      "execution_count": 181,
      "outputs": []
    },
    {
      "cell_type": "code",
      "metadata": {
        "colab": {
          "base_uri": "https://localhost:8080/",
          "height": 350
        },
        "id": "fvuheXy5PT9m",
        "outputId": "0e6540de-fa7e-4958-ec96-59755de19938"
      },
      "source": [
        "sns.distplot(df['TotalCharges'])"
      ],
      "execution_count": 182,
      "outputs": [
        {
          "output_type": "stream",
          "text": [
            "/usr/local/lib/python3.7/dist-packages/seaborn/distributions.py:2557: FutureWarning: `distplot` is a deprecated function and will be removed in a future version. Please adapt your code to use either `displot` (a figure-level function with similar flexibility) or `histplot` (an axes-level function for histograms).\n",
            "  warnings.warn(msg, FutureWarning)\n"
          ],
          "name": "stderr"
        },
        {
          "output_type": "execute_result",
          "data": {
            "text/plain": [
              "<matplotlib.axes._subplots.AxesSubplot at 0x7f5251671850>"
            ]
          },
          "metadata": {
            "tags": []
          },
          "execution_count": 182
        },
        {
          "output_type": "display_data",
          "data": {
            "image/png": "[encoded data removed]",
            "text/plain": [
              "<Figure size 432x288 with 1 Axes>"
            ]
          },
          "metadata": {
            "tags": [],
            "needs_background": "light"
          }
        }
      ]
    },
    {
      "cell_type": "code",
      "metadata": {
        "id": "FoH8wiBzRmir"
      },
      "source": [
        "val = df.TotalCharges.median()\n",
        "df['TotalCharges'] = df.TotalCharges.fillna(val)"
      ],
      "execution_count": 183,
      "outputs": []
    },
    {
      "cell_type": "code",
      "metadata": {
        "colab": {
          "base_uri": "https://localhost:8080/",
          "height": 288
        },
        "id": "cG-LQQGjTAYo",
        "outputId": "9564c4e3-68e5-4a56-fe0c-c80909038883"
      },
      "source": [
        "#Churn\n",
        "df.Churn.value_counts().plot(kind='bar')"
      ],
      "execution_count": 185,
      "outputs": [
        {
          "output_type": "execute_result",
          "data": {
            "text/plain": [
              "<matplotlib.axes._subplots.AxesSubplot at 0x7f5251b6a550>"
            ]
          },
          "metadata": {
            "tags": []
          },
          "execution_count": 185
        },
        {
          "output_type": "display_data",
          "data": {
            "image/png": "[encoded data removed]",
            "text/plain": [
              "<Figure size 432x288 with 1 Axes>"
            ]
          },
          "metadata": {
            "tags": [],
            "needs_background": "light"
          }
        }
      ]
    },
    {
      "cell_type": "code",
      "metadata": {
        "id": "BrEtH6MPVVFt"
      },
      "source": [
        "df.Churn = df.Churn.map({'No':0, 'Yes':1})"
      ],
      "execution_count": 186,
      "outputs": []
    },
    {
      "cell_type": "code",
      "metadata": {
        "id": "GlPrlhQKV4GO"
      },
      "source": [
        "#Drop customerID\n",
        "df = df.drop(['customerID'], axis=1)"
      ],
      "execution_count": 187,
      "outputs": []
    },
    {
      "cell_type": "markdown",
      "metadata": {
        "id": "ceLAUFhS5BAb"
      },
      "source": [
        "# Heatmap check"
      ]
    },
    {
      "cell_type": "code",
      "metadata": {
        "colab": {
          "base_uri": "https://localhost:8080/",
          "height": 346
        },
        "id": "sEAIoP0YKFur",
        "outputId": "673c4b01-c45f-4453-88f4-1074d49eb63e"
      },
      "source": [
        "#Plotting heatmap\n",
        "sns.heatmap(df.corr());\n"
      ],
      "execution_count": 188,
      "outputs": [
        {
          "output_type": "display_data",
          "data": {
            "image/png": "[encoded data removed]",
            "text/plain": [
              "<Figure size 432x288 with 2 Axes>"
            ]
          },
          "metadata": {
            "tags": [],
            "needs_background": "light"
          }
        }
      ]
    },
    {
      "cell_type": "code",
      "metadata": {
        "id": "tNXA5KlXRnbf"
      },
      "source": [
        "#Drop redundant value\n",
        "\n",
        "feature_drop = ['InternetService', 'OnlineSecurity', 'OnlineBackup', 'DeviceProtection', 'TechSupport', 'StreamingTV', 'StreamingMovies', 'MultipleLines', 'Contract', 'TotalCharges', 'gender', 'Partner', 'Dependents']\n",
        "\n",
        "df = df.drop(feature_drop, axis=1)"
      ],
      "execution_count": 189,
      "outputs": []
    },
    {
      "cell_type": "code",
      "metadata": {
        "colab": {
          "base_uri": "https://localhost:8080/",
          "height": 340
        },
        "id": "Ii6K3CGiWqNQ",
        "outputId": "996d9b23-6447-4676-8b6d-6b20745a4936"
      },
      "source": [
        "#Heatmap check\n",
        "sns.heatmap(df.corr(), annot=True);"
      ],
      "execution_count": 190,
      "outputs": [
        {
          "output_type": "display_data",
          "data": {
            "image/png": "[encoded data removed]",
            "text/plain": [
              "<Figure size 432x288 with 2 Axes>"
            ]
          },
          "metadata": {
            "tags": [],
            "needs_background": "light"
          }
        }
      ]
    },
    {
      "cell_type": "code",
      "metadata": {
        "colab": {
          "base_uri": "https://localhost:8080/",
          "height": 204
        },
        "id": "2sIXf1PEa8mh",
        "outputId": "7ea7bceb-87fb-4603-90ce-db0d86e28b1d"
      },
      "source": [
        "df.head()"
      ],
      "execution_count": 191,
      "outputs": [
        {
          "output_type": "execute_result",
          "data": {
            "text/html": [
              "<div>\n",
              "<style scoped>\n",
              "    .dataframe tbody tr th:only-of-type {\n",
              "        vertical-align: middle;\n",
              "    }\n",
              "\n",
              "    .dataframe tbody tr th {\n",
              "        vertical-align: top;\n",
              "    }\n",
              "\n",
              "    .dataframe thead th {\n",
              "        text-align: right;\n",
              "    }\n",
              "</style>\n",
              "<table border=\"1\" class=\"dataframe\">\n",
              "  <thead>\n",
              "    <tr style=\"text-align: right;\">\n",
              "      <th></th>\n",
              "      <th>SeniorCitizen</th>\n",
              "      <th>tenure</th>\n",
              "      <th>PhoneService</th>\n",
              "      <th>PaperlessBilling</th>\n",
              "      <th>PaymentMethod</th>\n",
              "      <th>MonthlyCharges</th>\n",
              "      <th>Churn</th>\n",
              "    </tr>\n",
              "  </thead>\n",
              "  <tbody>\n",
              "    <tr>\n",
              "      <th>0</th>\n",
              "      <td>2.0</td>\n",
              "      <td>1</td>\n",
              "      <td>0</td>\n",
              "      <td>1</td>\n",
              "      <td>0</td>\n",
              "      <td>29.85</td>\n",
              "      <td>0</td>\n",
              "    </tr>\n",
              "    <tr>\n",
              "      <th>1</th>\n",
              "      <td>2.0</td>\n",
              "      <td>34</td>\n",
              "      <td>1</td>\n",
              "      <td>0</td>\n",
              "      <td>1</td>\n",
              "      <td>56.95</td>\n",
              "      <td>0</td>\n",
              "    </tr>\n",
              "    <tr>\n",
              "      <th>2</th>\n",
              "      <td>2.0</td>\n",
              "      <td>2</td>\n",
              "      <td>1</td>\n",
              "      <td>1</td>\n",
              "      <td>1</td>\n",
              "      <td>53.85</td>\n",
              "      <td>1</td>\n",
              "    </tr>\n",
              "    <tr>\n",
              "      <th>3</th>\n",
              "      <td>2.0</td>\n",
              "      <td>45</td>\n",
              "      <td>0</td>\n",
              "      <td>0</td>\n",
              "      <td>2</td>\n",
              "      <td>42.30</td>\n",
              "      <td>0</td>\n",
              "    </tr>\n",
              "    <tr>\n",
              "      <th>4</th>\n",
              "      <td>2.0</td>\n",
              "      <td>2</td>\n",
              "      <td>1</td>\n",
              "      <td>1</td>\n",
              "      <td>0</td>\n",
              "      <td>70.70</td>\n",
              "      <td>1</td>\n",
              "    </tr>\n",
              "  </tbody>\n",
              "</table>\n",
              "</div>"
            ],
            "text/plain": [
              "   SeniorCitizen  tenure  PhoneService  ...  PaymentMethod  MonthlyCharges  Churn\n",
              "0            2.0       1             0  ...              0           29.85      0\n",
              "1            2.0      34             1  ...              1           56.95      0\n",
              "2            2.0       2             1  ...              1           53.85      1\n",
              "3            2.0      45             0  ...              2           42.30      0\n",
              "4            2.0       2             1  ...              0           70.70      1\n",
              "\n",
              "[5 rows x 7 columns]"
            ]
          },
          "metadata": {
            "tags": []
          },
          "execution_count": 191
        }
      ]
    },
    {
      "cell_type": "code",
      "metadata": {
        "colab": {
          "base_uri": "https://localhost:8080/",
          "height": 350
        },
        "id": "CdQvGuZicAM0",
        "outputId": "3c052be4-cdbe-443c-d410-bba048b344e5"
      },
      "source": [
        "#Analyze MonthlyCharges distribution\n",
        "\n",
        "sns.distplot(df['MonthlyCharges'])"
      ],
      "execution_count": 192,
      "outputs": [
        {
          "output_type": "stream",
          "text": [
            "/usr/local/lib/python3.7/dist-packages/seaborn/distributions.py:2557: FutureWarning: `distplot` is a deprecated function and will be removed in a future version. Please adapt your code to use either `displot` (a figure-level function with similar flexibility) or `histplot` (an axes-level function for histograms).\n",
            "  warnings.warn(msg, FutureWarning)\n"
          ],
          "name": "stderr"
        },
        {
          "output_type": "execute_result",
          "data": {
            "text/plain": [
              "<matplotlib.axes._subplots.AxesSubplot at 0x7f5251bc7050>"
            ]
          },
          "metadata": {
            "tags": []
          },
          "execution_count": 192
        },
        {
          "output_type": "display_data",
          "data": {
            "image/png": "[encoded data removed]",
            "text/plain": [
              "<Figure size 432x288 with 1 Axes>"
            ]
          },
          "metadata": {
            "tags": [],
            "needs_background": "light"
          }
        }
      ]
    },
    {
      "cell_type": "code",
      "metadata": {
        "colab": {
          "base_uri": "https://localhost:8080/",
          "height": 350
        },
        "id": "RxOcm1-OcK7F",
        "outputId": "20dbdc0c-6e08-44fa-b435-2d9e843089cf"
      },
      "source": [
        "#Analyze tenure distribution\n",
        "\n",
        "sns.distplot(df['tenure'])"
      ],
      "execution_count": 193,
      "outputs": [
        {
          "output_type": "stream",
          "text": [
            "/usr/local/lib/python3.7/dist-packages/seaborn/distributions.py:2557: FutureWarning: `distplot` is a deprecated function and will be removed in a future version. Please adapt your code to use either `displot` (a figure-level function with similar flexibility) or `histplot` (an axes-level function for histograms).\n",
            "  warnings.warn(msg, FutureWarning)\n"
          ],
          "name": "stderr"
        },
        {
          "output_type": "execute_result",
          "data": {
            "text/plain": [
              "<matplotlib.axes._subplots.AxesSubplot at 0x7f52516135d0>"
            ]
          },
          "metadata": {
            "tags": []
          },
          "execution_count": 193
        },
        {
          "output_type": "display_data",
          "data": {
            "image/png": "[encoded data removed]",
            "text/plain": [
              "<Figure size 432x288 with 1 Axes>"
            ]
          },
          "metadata": {
            "tags": [],
            "needs_background": "light"
          }
        }
      ]
    },
    {
      "cell_type": "markdown",
      "metadata": {
        "id": "ghSTPtoO6AE6"
      },
      "source": [
        "# Developing preprocessing with MinMaxScaler"
      ]
    },
    {
      "cell_type": "code",
      "metadata": {
        "id": "uaLbUmggcXFB"
      },
      "source": [
        "#Developing preprocessing with MinMaxScaler\n",
        "from sklearn.preprocessing import MinMaxScaler\n",
        "scaler = MinMaxScaler()"
      ],
      "execution_count": 194,
      "outputs": []
    },
    {
      "cell_type": "code",
      "metadata": {
        "id": "oRdvehx2cZIh"
      },
      "source": [
        "#MinMaxScaler Determined Columns\n",
        "\n",
        "columns_scaler = ['MonthlyCharges', 'tenure']\n",
        "\n",
        "df[columns_scaler] = scaler.fit_transform(df[columns_scaler])"
      ],
      "execution_count": 195,
      "outputs": []
    },
    {
      "cell_type": "code",
      "metadata": {
        "colab": {
          "base_uri": "https://localhost:8080/",
          "height": 204
        },
        "id": "CwP-KE1Dcv1U",
        "outputId": "02f10a68-56d3-437c-b8c1-f8c8f627a3ea"
      },
      "source": [
        "df.head()"
      ],
      "execution_count": 196,
      "outputs": [
        {
          "output_type": "execute_result",
          "data": {
            "text/html": [
              "<div>\n",
              "<style scoped>\n",
              "    .dataframe tbody tr th:only-of-type {\n",
              "        vertical-align: middle;\n",
              "    }\n",
              "\n",
              "    .dataframe tbody tr th {\n",
              "        vertical-align: top;\n",
              "    }\n",
              "\n",
              "    .dataframe thead th {\n",
              "        text-align: right;\n",
              "    }\n",
              "</style>\n",
              "<table border=\"1\" class=\"dataframe\">\n",
              "  <thead>\n",
              "    <tr style=\"text-align: right;\">\n",
              "      <th></th>\n",
              "      <th>SeniorCitizen</th>\n",
              "      <th>tenure</th>\n",
              "      <th>PhoneService</th>\n",
              "      <th>PaperlessBilling</th>\n",
              "      <th>PaymentMethod</th>\n",
              "      <th>MonthlyCharges</th>\n",
              "      <th>Churn</th>\n",
              "    </tr>\n",
              "  </thead>\n",
              "  <tbody>\n",
              "    <tr>\n",
              "      <th>0</th>\n",
              "      <td>2.0</td>\n",
              "      <td>0.013889</td>\n",
              "      <td>0</td>\n",
              "      <td>1</td>\n",
              "      <td>0</td>\n",
              "      <td>0.115423</td>\n",
              "      <td>0</td>\n",
              "    </tr>\n",
              "    <tr>\n",
              "      <th>1</th>\n",
              "      <td>2.0</td>\n",
              "      <td>0.472222</td>\n",
              "      <td>1</td>\n",
              "      <td>0</td>\n",
              "      <td>1</td>\n",
              "      <td>0.385075</td>\n",
              "      <td>0</td>\n",
              "    </tr>\n",
              "    <tr>\n",
              "      <th>2</th>\n",
              "      <td>2.0</td>\n",
              "      <td>0.027778</td>\n",
              "      <td>1</td>\n",
              "      <td>1</td>\n",
              "      <td>1</td>\n",
              "      <td>0.354229</td>\n",
              "      <td>1</td>\n",
              "    </tr>\n",
              "    <tr>\n",
              "      <th>3</th>\n",
              "      <td>2.0</td>\n",
              "      <td>0.625000</td>\n",
              "      <td>0</td>\n",
              "      <td>0</td>\n",
              "      <td>2</td>\n",
              "      <td>0.239303</td>\n",
              "      <td>0</td>\n",
              "    </tr>\n",
              "    <tr>\n",
              "      <th>4</th>\n",
              "      <td>2.0</td>\n",
              "      <td>0.027778</td>\n",
              "      <td>1</td>\n",
              "      <td>1</td>\n",
              "      <td>0</td>\n",
              "      <td>0.521891</td>\n",
              "      <td>1</td>\n",
              "    </tr>\n",
              "  </tbody>\n",
              "</table>\n",
              "</div>"
            ],
            "text/plain": [
              "   SeniorCitizen    tenure  PhoneService  ...  PaymentMethod  MonthlyCharges  Churn\n",
              "0            2.0  0.013889             0  ...              0        0.115423      0\n",
              "1            2.0  0.472222             1  ...              1        0.385075      0\n",
              "2            2.0  0.027778             1  ...              1        0.354229      1\n",
              "3            2.0  0.625000             0  ...              2        0.239303      0\n",
              "4            2.0  0.027778             1  ...              0        0.521891      1\n",
              "\n",
              "[5 rows x 7 columns]"
            ]
          },
          "metadata": {
            "tags": []
          },
          "execution_count": 196
        }
      ]
    },
    {
      "cell_type": "markdown",
      "metadata": {
        "id": "F2UYo_c0c79H"
      },
      "source": [
        "# Modelling Data"
      ]
    },
    {
      "cell_type": "code",
      "metadata": {
        "id": "nwCNldvuc9jQ"
      },
      "source": [
        "X = df.drop(['Churn'],axis=1)\n",
        "y = df['Churn']"
      ],
      "execution_count": 197,
      "outputs": []
    },
    {
      "cell_type": "markdown",
      "metadata": {
        "id": "BwrgSwRMdTo3"
      },
      "source": [
        "# Feature Importance with Random Forest Classifier"
      ]
    },
    {
      "cell_type": "code",
      "metadata": {
        "id": "6ljoj0Dtc1h2"
      },
      "source": [
        "from sklearn.ensemble import RandomForestClassifier\n",
        "\n",
        "rfc = RandomForestClassifier()\n",
        "rfc.fit(X,y)\n",
        "importances = rfc.feature_importances_"
      ],
      "execution_count": 198,
      "outputs": []
    },
    {
      "cell_type": "code",
      "metadata": {
        "colab": {
          "base_uri": "https://localhost:8080/",
          "height": 235
        },
        "id": "jdzhj22ydfZi",
        "outputId": "b969c0f8-d6b2-467c-e87d-2faf64e029bc"
      },
      "source": [
        "#Define feature importances\n",
        "feat_importance = pd.DataFrame({'Variable':X.columns,'Importances':importances})\n",
        "feat_importance"
      ],
      "execution_count": 199,
      "outputs": [
        {
          "output_type": "execute_result",
          "data": {
            "text/html": [
              "<div>\n",
              "<style scoped>\n",
              "    .dataframe tbody tr th:only-of-type {\n",
              "        vertical-align: middle;\n",
              "    }\n",
              "\n",
              "    .dataframe tbody tr th {\n",
              "        vertical-align: top;\n",
              "    }\n",
              "\n",
              "    .dataframe thead th {\n",
              "        text-align: right;\n",
              "    }\n",
              "</style>\n",
              "<table border=\"1\" class=\"dataframe\">\n",
              "  <thead>\n",
              "    <tr style=\"text-align: right;\">\n",
              "      <th></th>\n",
              "      <th>Variable</th>\n",
              "      <th>Importances</th>\n",
              "    </tr>\n",
              "  </thead>\n",
              "  <tbody>\n",
              "    <tr>\n",
              "      <th>0</th>\n",
              "      <td>SeniorCitizen</td>\n",
              "      <td>0.030897</td>\n",
              "    </tr>\n",
              "    <tr>\n",
              "      <th>1</th>\n",
              "      <td>tenure</td>\n",
              "      <td>0.353403</td>\n",
              "    </tr>\n",
              "    <tr>\n",
              "      <th>2</th>\n",
              "      <td>PhoneService</td>\n",
              "      <td>0.009214</td>\n",
              "    </tr>\n",
              "    <tr>\n",
              "      <th>3</th>\n",
              "      <td>PaperlessBilling</td>\n",
              "      <td>0.027786</td>\n",
              "    </tr>\n",
              "    <tr>\n",
              "      <th>4</th>\n",
              "      <td>PaymentMethod</td>\n",
              "      <td>0.081748</td>\n",
              "    </tr>\n",
              "    <tr>\n",
              "      <th>5</th>\n",
              "      <td>MonthlyCharges</td>\n",
              "      <td>0.496951</td>\n",
              "    </tr>\n",
              "  </tbody>\n",
              "</table>\n",
              "</div>"
            ],
            "text/plain": [
              "           Variable  Importances\n",
              "0     SeniorCitizen     0.030897\n",
              "1            tenure     0.353403\n",
              "2      PhoneService     0.009214\n",
              "3  PaperlessBilling     0.027786\n",
              "4     PaymentMethod     0.081748\n",
              "5    MonthlyCharges     0.496951"
            ]
          },
          "metadata": {
            "tags": []
          },
          "execution_count": 199
        }
      ]
    },
    {
      "cell_type": "code",
      "metadata": {
        "colab": {
          "base_uri": "https://localhost:8080/",
          "height": 235
        },
        "id": "caKal8Dddksv",
        "outputId": "312445d9-0f14-4d2d-a32b-e0c90fbbcb70"
      },
      "source": [
        "feat_importance.sort_values(by=['Importances'],ascending=False)"
      ],
      "execution_count": 200,
      "outputs": [
        {
          "output_type": "execute_result",
          "data": {
            "text/html": [
              "<div>\n",
              "<style scoped>\n",
              "    .dataframe tbody tr th:only-of-type {\n",
              "        vertical-align: middle;\n",
              "    }\n",
              "\n",
              "    .dataframe tbody tr th {\n",
              "        vertical-align: top;\n",
              "    }\n",
              "\n",
              "    .dataframe thead th {\n",
              "        text-align: right;\n",
              "    }\n",
              "</style>\n",
              "<table border=\"1\" class=\"dataframe\">\n",
              "  <thead>\n",
              "    <tr style=\"text-align: right;\">\n",
              "      <th></th>\n",
              "      <th>Variable</th>\n",
              "      <th>Importances</th>\n",
              "    </tr>\n",
              "  </thead>\n",
              "  <tbody>\n",
              "    <tr>\n",
              "      <th>5</th>\n",
              "      <td>MonthlyCharges</td>\n",
              "      <td>0.496951</td>\n",
              "    </tr>\n",
              "    <tr>\n",
              "      <th>1</th>\n",
              "      <td>tenure</td>\n",
              "      <td>0.353403</td>\n",
              "    </tr>\n",
              "    <tr>\n",
              "      <th>4</th>\n",
              "      <td>PaymentMethod</td>\n",
              "      <td>0.081748</td>\n",
              "    </tr>\n",
              "    <tr>\n",
              "      <th>0</th>\n",
              "      <td>SeniorCitizen</td>\n",
              "      <td>0.030897</td>\n",
              "    </tr>\n",
              "    <tr>\n",
              "      <th>3</th>\n",
              "      <td>PaperlessBilling</td>\n",
              "      <td>0.027786</td>\n",
              "    </tr>\n",
              "    <tr>\n",
              "      <th>2</th>\n",
              "      <td>PhoneService</td>\n",
              "      <td>0.009214</td>\n",
              "    </tr>\n",
              "  </tbody>\n",
              "</table>\n",
              "</div>"
            ],
            "text/plain": [
              "           Variable  Importances\n",
              "5    MonthlyCharges     0.496951\n",
              "1            tenure     0.353403\n",
              "4     PaymentMethod     0.081748\n",
              "0     SeniorCitizen     0.030897\n",
              "3  PaperlessBilling     0.027786\n",
              "2      PhoneService     0.009214"
            ]
          },
          "metadata": {
            "tags": []
          },
          "execution_count": 200
        }
      ]
    },
    {
      "cell_type": "code",
      "metadata": {
        "id": "TimorWbPduPK"
      },
      "source": [
        "#Define best column\n",
        "best_col = ['MonthlyCharges', 'tenure', 'PaymentMethod', 'SeniorCitizen', 'PaperlessBilling', 'PhoneService']\n",
        "X_red = X[best_col]"
      ],
      "execution_count": 201,
      "outputs": []
    },
    {
      "cell_type": "markdown",
      "metadata": {
        "id": "aK06P3fieOlZ"
      },
      "source": [
        "# Training and Testing Data"
      ]
    },
    {
      "cell_type": "code",
      "metadata": {
        "id": "rpsyKA2GeRV6"
      },
      "source": [
        "from sklearn.model_selection import train_test_split\n",
        "X_train, X_test, y_train, y_test = train_test_split(X_red,y,stratify=y,test_size=0.25,random_state=42)"
      ],
      "execution_count": 202,
      "outputs": []
    },
    {
      "cell_type": "markdown",
      "metadata": {
        "id": "Tke7WtOVefwb"
      },
      "source": [
        "# Determining Model"
      ]
    },
    {
      "cell_type": "code",
      "metadata": {
        "colab": {
          "base_uri": "https://localhost:8080/"
        },
        "id": "eTNc-TLh6eqT",
        "outputId": "9b301757-0188-4184-c9e4-5aeb86fdc262"
      },
      "source": [
        "#Support Vector Machine Model\n",
        "from sklearn.svm import SVC\n",
        "svc = SVC()\n",
        "svc.fit(X_train,y_train)\n",
        "\n",
        "#Check score\n",
        "svc.score(X_test,y_test)"
      ],
      "execution_count": 203,
      "outputs": [
        {
          "output_type": "execute_result",
          "data": {
            "text/plain": [
              "0.7722884724588303"
            ]
          },
          "metadata": {
            "tags": []
          },
          "execution_count": 203
        }
      ]
    },
    {
      "cell_type": "code",
      "metadata": {
        "colab": {
          "base_uri": "https://localhost:8080/"
        },
        "id": "-u0urVO8gSh_",
        "outputId": "db97711a-91c4-443e-cad5-ead793b35eb7"
      },
      "source": [
        "#Decision Tree Model\n",
        "from sklearn.tree import DecisionTreeClassifier\n",
        "dtc = DecisionTreeClassifier()\n",
        "dtc.fit(X_train,y_train)\n",
        "\n",
        "#Check score\n",
        "dtc.score(X_test,y_test)"
      ],
      "execution_count": 204,
      "outputs": [
        {
          "output_type": "execute_result",
          "data": {
            "text/plain": [
              "0.7177739920499716"
            ]
          },
          "metadata": {
            "tags": []
          },
          "execution_count": 204
        }
      ]
    },
    {
      "cell_type": "code",
      "metadata": {
        "colab": {
          "base_uri": "https://localhost:8080/"
        },
        "id": "hL4assBBgXcD",
        "outputId": "90db3006-31db-49ec-88ca-c379624d3f93"
      },
      "source": [
        "#Random Forest Model\n",
        "from sklearn.ensemble import RandomForestClassifier\n",
        "rf = RandomForestClassifier()\n",
        "rf.fit(X_train,y_train)\n",
        "\n",
        "#Check Score\n",
        "rf.score(X_test,y_test)"
      ],
      "execution_count": 205,
      "outputs": [
        {
          "output_type": "execute_result",
          "data": {
            "text/plain": [
              "0.78137421919364"
            ]
          },
          "metadata": {
            "tags": []
          },
          "execution_count": 205
        }
      ]
    },
    {
      "cell_type": "markdown",
      "metadata": {
        "id": "bCUDLuSjg5QW"
      },
      "source": [
        "# Model with Random Forest¶"
      ]
    },
    {
      "cell_type": "code",
      "metadata": {
        "colab": {
          "base_uri": "https://localhost:8080/"
        },
        "id": "BdPQ8QTWgqNV",
        "outputId": "2370acea-7a42-49e2-8e78-d6375fb3aa72"
      },
      "source": [
        "from sklearn.ensemble import RandomForestClassifier\n",
        "rf = RandomForestClassifier()\n",
        "rf.fit(X_train,y_train)"
      ],
      "execution_count": 206,
      "outputs": [
        {
          "output_type": "execute_result",
          "data": {
            "text/plain": [
              "RandomForestClassifier(bootstrap=True, ccp_alpha=0.0, class_weight=None,\n",
              "                       criterion='gini', max_depth=None, max_features='auto',\n",
              "                       max_leaf_nodes=None, max_samples=None,\n",
              "                       min_impurity_decrease=0.0, min_impurity_split=None,\n",
              "                       min_samples_leaf=1, min_samples_split=2,\n",
              "                       min_weight_fraction_leaf=0.0, n_estimators=100,\n",
              "                       n_jobs=None, oob_score=False, random_state=None,\n",
              "                       verbose=0, warm_start=False)"
            ]
          },
          "metadata": {
            "tags": []
          },
          "execution_count": 206
        }
      ]
    },
    {
      "cell_type": "markdown",
      "metadata": {
        "id": "OicHuRqyg-5t"
      },
      "source": [
        "# Cross Validation Model with Random Forest"
      ]
    },
    {
      "cell_type": "code",
      "metadata": {
        "id": "soJH88s3hFae"
      },
      "source": [
        "from sklearn.model_selection import GridSearchCV\n",
        "params ={'criterion':['gini','entropy'],'max_depth':[4,6,8],'max_features':['auto','log2']}\n",
        "rf_gridcv = GridSearchCV(rf,params,cv=3)"
      ],
      "execution_count": 207,
      "outputs": []
    },
    {
      "cell_type": "code",
      "metadata": {
        "colab": {
          "base_uri": "https://localhost:8080/"
        },
        "id": "uK2lr7d3hI_5",
        "outputId": "de6cd589-6641-4c7b-be1a-d325a04074dc"
      },
      "source": [
        "#Fitting train data\n",
        "rf_gridcv.fit(X_train,y_train) "
      ],
      "execution_count": 208,
      "outputs": [
        {
          "output_type": "execute_result",
          "data": {
            "text/plain": [
              "GridSearchCV(cv=3, error_score=nan,\n",
              "             estimator=RandomForestClassifier(bootstrap=True, ccp_alpha=0.0,\n",
              "                                              class_weight=None,\n",
              "                                              criterion='gini', max_depth=None,\n",
              "                                              max_features='auto',\n",
              "                                              max_leaf_nodes=None,\n",
              "                                              max_samples=None,\n",
              "                                              min_impurity_decrease=0.0,\n",
              "                                              min_impurity_split=None,\n",
              "                                              min_samples_leaf=1,\n",
              "                                              min_samples_split=2,\n",
              "                                              min_weight_fraction_leaf=0.0,\n",
              "                                              n_estimators=100, n_jobs=None,\n",
              "                                              oob_score=False,\n",
              "                                              random_state=None, verbose=0,\n",
              "                                              warm_start=False),\n",
              "             iid='deprecated', n_jobs=None,\n",
              "             param_grid={'criterion': ['gini', 'entropy'],\n",
              "                         'max_depth': [4, 6, 8],\n",
              "                         'max_features': ['auto', 'log2']},\n",
              "             pre_dispatch='2*n_jobs', refit=True, return_train_score=False,\n",
              "             scoring=None, verbose=0)"
            ]
          },
          "metadata": {
            "tags": []
          },
          "execution_count": 208
        }
      ]
    },
    {
      "cell_type": "code",
      "metadata": {
        "colab": {
          "base_uri": "https://localhost:8080/"
        },
        "id": "avX7ruzShRYt",
        "outputId": "001b6140-9f50-4bb9-fcf5-8fc428b3679d"
      },
      "source": [
        "#Define best scores\n",
        "rf_gridcv.best_score_"
      ],
      "execution_count": 209,
      "outputs": [
        {
          "output_type": "execute_result",
          "data": {
            "text/plain": [
              "0.7989373074871371"
            ]
          },
          "metadata": {
            "tags": []
          },
          "execution_count": 209
        }
      ]
    },
    {
      "cell_type": "code",
      "metadata": {
        "colab": {
          "base_uri": "https://localhost:8080/"
        },
        "id": "dWpoPCvphVPr",
        "outputId": "f57723df-2551-4662-e3dd-0168731f5c06"
      },
      "source": [
        "#Determine the best parameter\n",
        "print(rf_gridcv.best_params_)"
      ],
      "execution_count": 210,
      "outputs": [
        {
          "output_type": "stream",
          "text": [
            "{'criterion': 'gini', 'max_depth': 6, 'max_features': 'log2'}\n"
          ],
          "name": "stdout"
        }
      ]
    },
    {
      "cell_type": "code",
      "metadata": {
        "id": "RpO-oU6MhYDn"
      },
      "source": [
        "#Predict the data\n",
        "y_pred_test = rf_gridcv.predict(X_test)"
      ],
      "execution_count": 211,
      "outputs": []
    },
    {
      "cell_type": "markdown",
      "metadata": {
        "id": "HvXnNiADhfAW"
      },
      "source": [
        "# Metrics Result"
      ]
    },
    {
      "cell_type": "code",
      "metadata": {
        "id": "QJ30SxTwhpjY"
      },
      "source": [
        "#Import metrics\n",
        "from sklearn.metrics import confusion_matrix\n",
        "from sklearn.metrics import classification_report\n",
        "from sklearn.metrics import accuracy_score"
      ],
      "execution_count": 212,
      "outputs": []
    },
    {
      "cell_type": "code",
      "metadata": {
        "colab": {
          "base_uri": "https://localhost:8080/"
        },
        "id": "3s0WrKHrhrFI",
        "outputId": "05632c16-02fa-4064-e949-54fe82e93598"
      },
      "source": [
        "from sklearn.metrics import classification_report\n",
        "print(classification_report(y_test, y_pred_test))"
      ],
      "execution_count": 213,
      "outputs": [
        {
          "output_type": "stream",
          "text": [
            "              precision    recall  f1-score   support\n",
            "\n",
            "           0       0.81      0.92      0.86      1294\n",
            "           1       0.65      0.41      0.50       467\n",
            "\n",
            "    accuracy                           0.79      1761\n",
            "   macro avg       0.73      0.67      0.68      1761\n",
            "weighted avg       0.77      0.79      0.77      1761\n",
            "\n"
          ],
          "name": "stdout"
        }
      ]
    },
    {
      "cell_type": "markdown",
      "metadata": {
        "id": "aIA8XDb9hz0p"
      },
      "source": [
        "# Is the model overfit or underfit?"
      ]
    },
    {
      "cell_type": "code",
      "metadata": {
        "id": "R29iRgmrh21x"
      },
      "source": [
        "y_pred_train = rf_gridcv.predict(X_train)\n",
        "y_pred_test = rf_gridcv.predict(X_test)\n",
        "y_proba_train = rf_gridcv.predict_proba(X_train)[:,1]\n",
        "y_proba_test = rf_gridcv.predict_proba(X_test)[:,1]"
      ],
      "execution_count": 214,
      "outputs": []
    },
    {
      "cell_type": "code",
      "metadata": {
        "colab": {
          "base_uri": "https://localhost:8080/"
        },
        "id": "iKSQGbA7h8Jp",
        "outputId": "fbd83ef6-f8ed-4314-eb7e-80f3203355a8"
      },
      "source": [
        "#Accuracy score of training data\n",
        "print(accuracy_score(y_train, y_pred_train))"
      ],
      "execution_count": 215,
      "outputs": [
        {
          "output_type": "stream",
          "text": [
            "0.8121923513820523\n"
          ],
          "name": "stdout"
        }
      ]
    },
    {
      "cell_type": "code",
      "metadata": {
        "colab": {
          "base_uri": "https://localhost:8080/"
        },
        "id": "UQkSnck5h-AO",
        "outputId": "ee062610-9749-436f-f8f0-57d8ba5ad52b"
      },
      "source": [
        "#Accuracy score of testing data\n",
        "print(accuracy_score(y_test, y_pred_test))"
      ],
      "execution_count": 216,
      "outputs": [
        {
          "output_type": "stream",
          "text": [
            "0.7853492333901193\n"
          ],
          "name": "stdout"
        }
      ]
    },
    {
      "cell_type": "markdown",
      "metadata": {
        "id": "x4k9kRI2lch1"
      },
      "source": [
        "*   The model is slightly better\n",
        "\n",
        "\n"
      ]
    },
    {
      "cell_type": "markdown",
      "metadata": {
        "id": "lyBoIWyEiIMl"
      },
      "source": [
        "# Evaluating Model Performance"
      ]
    },
    {
      "cell_type": "code",
      "metadata": {
        "id": "4h6zIWy-iHed"
      },
      "source": [
        "from sklearn.metrics import roc_auc_score, accuracy_score, precision_score, recall_score, confusion_matrix, roc_curve, auc, log_loss"
      ],
      "execution_count": 217,
      "outputs": []
    },
    {
      "cell_type": "code",
      "metadata": {
        "id": "fWtOTWoXjyIH"
      },
      "source": [
        "y_pred_train = rf_gridcv.predict(X_train)\n",
        "y_pred_test = rf_gridcv.predict(X_test)\n",
        "y_proba_train = rf_gridcv.predict_proba(X_train)[:,1]\n",
        "y_proba_test = rf_gridcv.predict_proba(X_test)[:,1]\n",
        "cm_train = confusion_matrix(y_train,y_pred_train)\n",
        "cm_test = confusion_matrix(y_test,y_pred_test)"
      ],
      "execution_count": 218,
      "outputs": []
    },
    {
      "cell_type": "code",
      "metadata": {
        "id": "z9qkLxMrjzsd"
      },
      "source": [
        "fpr_train, tpr_train, threshold_train = roc_curve(y_train, y_proba_train)\n",
        "roc_auc_train = auc(fpr_train, tpr_train)\n",
        "fpr_test, tpr_test, threshold_test = roc_curve(y_test, y_proba_test)\n",
        "roc_auc_test = auc(fpr_test, tpr_test)"
      ],
      "execution_count": 219,
      "outputs": []
    },
    {
      "cell_type": "code",
      "metadata": {
        "id": "3xV6N3rnj5fO"
      },
      "source": [
        "# True Positive\n",
        "tp_train, tp_test = cm_train[1][1], cm_test[1][1]\n",
        "# True Negative\n",
        "tn_train, tn_test = cm_train[0][0], cm_test[0][0]\n",
        "# False Positive\n",
        "fp_train, fp_test = cm_train[1][0], cm_test[1][0]\n",
        "# False Negative\n",
        "fn_train, fn_test = cm_train[0][1], cm_test[0][1]"
      ],
      "execution_count": 220,
      "outputs": []
    },
    {
      "cell_type": "code",
      "metadata": {
        "id": "zeQW_2WOj60w"
      },
      "source": [
        "# Overall, how often is the classifier correct?\n",
        "accuracy_train, accuracy_test = ((tp_train + tn_train) / (tp_train + tn_train + fp_train + fn_train)), (\n",
        "            (tp_test + tn_test) / (tp_test + tn_test + fp_test + fn_test))\n",
        "# When it's actually yes, how often does it predict yes?\n",
        "recall_train, recall_test = (tp_train / (tp_train + fp_train)), (tp_test / (tp_test + fp_test))\n",
        "# When it's actually no, how often does it predict no?\n",
        "specificity_train, specificity_test = (tn_train / (tn_train + fn_train)), (tn_test / (tn_test + fn_test))\n",
        "# When it predicts yes, how often is it correct?\n",
        "precision_train, precision_test = (tp_train / (tp_train + fn_train)), (tp_test / (tp_test + fn_test))\n",
        "# F1 Score\n",
        "f1_score_train, f1_score_test = (2 * (precision_train * recall_train) / (precision_train + recall_train)), (\n",
        "            2 * (precision_test * recall_test) / (precision_test + recall_test))"
      ],
      "execution_count": 221,
      "outputs": []
    },
    {
      "cell_type": "code",
      "metadata": {
        "colab": {
          "base_uri": "https://localhost:8080/",
          "height": 710
        },
        "id": "L-Q-Xp-RkAR6",
        "outputId": "cc801d19-5ba0-49b3-dabf-7ed061d929db"
      },
      "source": [
        "# Print all the evaluation metrics\n",
        "print('\\nTrain Confusion Matrix')\n",
        "print(cm_train)\n",
        "print('Test Confusion Matrix')\n",
        "print(cm_test)\n",
        "print('\\nArea Under Curve')\n",
        "print('AUC train & test        : %.2f%%' % (roc_auc_train * 100), '&', '%.2f%%' % (roc_auc_test * 100))\n",
        "print('\\nConfusion Matrix Evaluation')\n",
        "print('Accuracy train & test   : %.2f%%' % (accuracy_train * 100), '&', '%.2f%%' % (accuracy_test * 100))\n",
        "print('Recall train & test     : %.2f%%' % (recall_train * 100), '&', '%.2f%%' % (recall_test * 100))\n",
        "print('Specificity train & test: %.2f%%' % (specificity_train * 100), '&', '%.2f%%' % (specificity_test * 100))\n",
        "print('Precision train & test  : %.2f%%' % (precision_train * 100), '&', '%.2f%%' % (precision_test * 100))\n",
        "print('F1 Score train & test   : %.2f%%' % (f1_score_train * 100), '&', '%.2f%%' % (f1_score_test * 100))\n",
        "print('Log Loss train & test   :', round(log_loss(y_train, y_pred_train), 4), '&',\n",
        "          round(log_loss(y_test, y_pred_test), 4))\n",
        "\n",
        "#create plot of ROC_AUC\n",
        "plt.figure(figsize=(7, 6))\n",
        "plt.title('Receiver Operating Characteristic')\n",
        "plt.plot(fpr_train, tpr_train, 'b', label='Train = %0.2f' % roc_auc_train)\n",
        "plt.plot(fpr_test, tpr_test, 'g', label='Test  = %0.2f' % roc_auc_test)\n",
        "plt.legend(loc='lower right')\n",
        "plt.plot([0, 1], [0, 1], 'r--')\n",
        "plt.xlim([-0.05, 1.05])\n",
        "plt.ylim([-0.05, 1.05])\n",
        "plt.ylabel('True Positive Rate')\n",
        "plt.xlabel('False Positive Rate')\n",
        "plt.show()\n"
      ],
      "execution_count": 222,
      "outputs": [
        {
          "output_type": "stream",
          "text": [
            "\n",
            "Train Confusion Matrix\n",
            "[[3620  260]\n",
            " [ 732  670]]\n",
            "Test Confusion Matrix\n",
            "[[1192  102]\n",
            " [ 276  191]]\n",
            "\n",
            "Area Under Curve\n",
            "AUC train & test        : 85.67% & 82.89%\n",
            "\n",
            "Confusion Matrix Evaluation\n",
            "Accuracy train & test   : 81.22% & 78.53%\n",
            "Recall train & test     : 47.79% & 40.90%\n",
            "Specificity train & test: 93.30% & 92.12%\n",
            "Precision train & test  : 72.04% & 65.19%\n",
            "F1 Score train & test   : 57.46% & 50.26%\n",
            "Log Loss train & test   : 6.4867 & 7.4138\n"
          ],
          "name": "stdout"
        },
        {
          "output_type": "display_data",
          "data": {
            "image/png": "[encoded data removed]",
            "text/plain": [
              "<Figure size 504x432 with 1 Axes>"
            ]
          },
          "metadata": {
            "tags": [],
            "needs_background": "light"
          }
        }
      ]
    }
  ]
}